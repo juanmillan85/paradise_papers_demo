{
 "cells": [
  {
   "cell_type": "markdown",
   "id": "indoor-mathematics",
   "metadata": {},
   "source": [
    "# Paradise Papers\n",
    "The Paradise Papers is a global investigation into the offshore activities of some of the world’s most powerful people and companies.\n",
    "\n",
    "The International Consortium of Investigative Journalists and 95 media partners explored 13.4 million leaked files from a combination of offshore service providers and the company registries of some of the world’s most secretive countries.\n",
    "\n",
    "The files were obtained by the German newspaper Süddeutsche Zeitung.\n",
    "\n",
    "The Paradise Papers documents include nearly 7 million loan agreements, financial statements, emails, trust deeds and other paperwork from nearly 50 years at Appleby, a leading offshore law firm with offices in Bermuda and beyond.\n",
    "\n",
    "The documents also include files from a smaller, family-owned trust company, Asiaciti, and from company registries in 19 secrecy jurisdictions. The records range from complex, 100-page corporate transaction sheets and dollar-by-dollar payment ledgers to simple corporate registries of countries, such as Antigua & Barbuda, that do not publicly list names of company shareholders or directors.\n",
    "\n",
    "As a whole, the Paradise Papers files expose offshore holdings of political leaders and their financiers as well as household-name companies that slash taxes through transactions conducted in secret. Financial deals of billionaires and celebrities are also revealed in the documents.\n",
    "\n",
    "The Paradise Papers files include far more information about U.S. citizens, residents and companies than previous ICIJ investigations – at least 31,000 of them.\n",
    "\n",
    "ICIJ collaborated with more than 380 journalists working on six continents in 30 languages. Many team members spent a year using online platforms to communicate and to share documents. Journalists tracked down court records, obtained financial disclosures of politicians in Africa, Europe, and Latin and North America, filed freedom of information requests and conducted hundreds of interviews with tax experts, policymakers and industry insiders."
   ]
  },
  {
   "cell_type": "code",
   "execution_count": 86,
   "id": "rough-efficiency",
   "metadata": {},
   "outputs": [
    {
     "name": "stdout",
     "output_type": "stream",
     "text": [
      "  % Total    % Received % Xferd  Average Speed   Time    Time     Time  Current\n",
      "                                 Dload  Upload   Total   Spent    Left  Speed\n",
      "100 28.1M  100 28.1M    0     0  22.0M      0  0:00:01  0:00:01 --:--:-- 22.0M\n",
      "Archive:  csv_paradise_papers.zip\n",
      "replace csv_paradise_papers/paradise_papers.edges.csv? [y]es, [n]o, [A]ll, [N]one, [r]ename: ^C\n",
      "  1657839 csv_paradise_papers/paradise_papers.edges.csv\n",
      "   223351 csv_paradise_papers/paradise_papers.nodes.address.csv\n",
      "   290087 csv_paradise_papers/paradise_papers.nodes.entity.csv\n",
      "     1569 csv_paradise_papers/paradise_papers.nodes.intermediary.csv\n",
      "   350009 csv_paradise_papers/paradise_papers.nodes.officer.csv\n",
      "     2920 csv_paradise_papers/paradise_papers.nodes.other.csv\n",
      "  2525775 total\n"
     ]
    }
   ],
   "source": [
    "! curl https://offshoreleaks-data.icij.org/offshoreleaks/csv/csv_paradise_papers.2018-02-14.zip -o csv_paradise_papers.zip\n",
    "!unzip csv_paradise_papers.zip -d csv_paradise_papers\n",
    "!wc -l csv_paradise_papers/*"
   ]
  },
  {
   "cell_type": "code",
   "execution_count": 17,
   "id": "incomplete-proceeding",
   "metadata": {},
   "outputs": [
    {
     "name": "stdout",
     "output_type": "stream",
     "text": [
      "csv_paradise_papers/paradise_papers.edges.csv\r\n",
      "csv_paradise_papers/paradise_papers.nodes.address.csv\r\n",
      "csv_paradise_papers/paradise_papers.nodes.entity.csv\r\n",
      "csv_paradise_papers/paradise_papers.nodes.intermediary.csv\r\n",
      "csv_paradise_papers/paradise_papers.nodes.officer.csv\r\n",
      "csv_paradise_papers/paradise_papers.nodes.other.csv\r\n"
     ]
    }
   ],
   "source": [
    "!ls csv_paradise_papers/*"
   ]
  },
  {
   "cell_type": "code",
   "execution_count": 16,
   "id": "perfect-monthly",
   "metadata": {},
   "outputs": [
    {
     "name": "stdout",
     "output_type": "stream",
     "text": [
      "==> paradise_papers.edges.csv <==\r\n",
      "\"START_ID\",\"TYPE\",\"END_ID\",\"link\",\"start_date\",\"end_date\",\"sourceID\",\"valid_until\"\r\n",
      "\"85004927\",\"registered_address\",\"88000379\",\"registered address\",\"\",\"\",\"Paradise Papers - Aruba corporate registry\",\"Aruba corporate registry data is current through 2016\"\r\n",
      "\"85004928\",\"registered_address\",\"88016409\",\"registered address\",\"\",\"\",\"Paradise Papers - Aruba corporate registry\",\"Aruba corporate registry data is current through 2016\"\r\n",
      "\"85004929\",\"registered_address\",\"88005855\",\"registered address\",\"\",\"\",\"Paradise Papers - Aruba corporate registry\",\"Aruba corporate registry data is current through 2016\"\r\n",
      "\r\n",
      "==> paradise_papers.nodes.address.csv <==\r\n",
      "\"node_id\",\"name\",\"address\",\"country_codes\",\"countries\",\"sourceID\",\"valid_until\",\"note\"\r\n",
      "\"81014050\",\"6B Chenyu Court; 22-24 Kennedy Road; Hong Kong\",\"6B Chenyu Court\",\"HKG\",\"Hong Kong\",\"Paradise Papers - Appleby\",\"Appleby data is current through 2014\",\"\"\r\n",
      "\"81014052\",\"15C Suchun Industrial Square; Suzhou Industrial Park; 215126 Suzhou; People's Republic of China\",\"15C Suchun Industrial Square\",\"CHN\",\"China\",\"Paradise Papers - Appleby\",\"Appleby data is current through 2014\",\"\"\r\n",
      "\"81014055\",\"8F., No. 68; Minfu 13th St. Taoyuan County; 330; Taiwan\",\"8F., No. 68\",\"TWN\",\"Taiwan\",\"Paradise Papers - Appleby\",\"Appleby data is current through 2014\",\"\"\r\n",
      "\r\n",
      "==> paradise_papers.nodes.entity.csv <==\r\n",
      "\"node_id\",\"name\",\"jurisdiction\",\"jurisdiction_description\",\"country_codes\",\"countries\",\"incorporation_date\",\"inactivation_date\",\"struck_off_date\",\"closed_date\",\"ibcRUC\",\"status\",\"company_type\",\"service_provider\",\"sourceID\",\"valid_until\",\"note\"\r\n",
      "\"85004927\",\"OCEAN\",\"AW\",\"Aruba\",\"\",\"\",\"26-APR-1983\",\"\",\"\",\"28-OCT-1988\",\"\",\"\",\"\",\"\",\"Paradise Papers - Aruba corporate registry\",\"Aruba corporate registry data is current through 2016\",\"Closed date stands for Cancelled date.\"\r\n",
      "\"85004928\",\"EFFICIENCY IN OPERATION\",\"AW\",\"Aruba\",\"\",\"\",\"01-JUN-1983\",\"\",\"\",\"03-SEP-2012\",\"\",\"\",\"\",\"\",\"Paradise Papers - Aruba corporate registry\",\"Aruba corporate registry data is current through 2016\",\"Closed date stands for Cancelled date.\"\r\n",
      "\"85004930\",\"ARUBA WATER SYSTEMS N.V.\",\"AW\",\"Aruba\",\"\",\"\",\"01-JUN-1983\",\"\",\"\",\"\",\"\",\"\",\"\",\"\",\"Paradise Papers - Aruba corporate registry\",\"Aruba corporate registry data is current through 2016\",\"\"\r\n",
      "\r\n",
      "==> paradise_papers.nodes.intermediary.csv <==\r\n",
      "\"node_id\",\"name\",\"country_codes\",\"countries\",\"sourceID\",\"valid_until\",\"note\"\r\n",
      "\"34304771\",\"CITITRUST (BAHAMAS) LIMITED\",\"BHS\",\"Bahamas\",\"Paradise Papers - Bahamas corporate registry\",\"Bahamas corporate registry data is current through 2016\",\"\"\r\n",
      "\"80000189\",\"Appleby Management (Bermuda) Ltd.\",\"BMU\",\"Bermuda\",\"Paradise Papers - Appleby\",\"Appleby data is current through 2014\",\"\"\r\n",
      "\"80000191\",\"Appleby Services (Bermuda) Ltd.\",\"BMU\",\"Bermuda\",\"Paradise Papers - Appleby\",\"Appleby data is current through 2014\",\"\"\r\n",
      "\r\n",
      "==> paradise_papers.nodes.officer.csv <==\r\n",
      "\"node_id\",\"name\",\"country_codes\",\"countries\",\"status\",\"sourceID\",\"valid_until\",\"note\"\r\n",
      "\"59160036\",\"RADOMIR VUKCEVIC\",\"\",\"\",\"\",\"Paradise Papers - Malta corporate registry\",\"Malta corporate registry data is current through 2016\",\"\"\r\n",
      "\"59178341\",\"ANA DUKANOVIC\",\"\",\"\",\"\",\"Paradise Papers - Malta corporate registry\",\"Malta corporate registry data is current through 2016\",\"\"\r\n",
      "\"59190179\",\"ANA KOLAREVIC\",\"\",\"\",\"\",\"Paradise Papers - Malta corporate registry\",\"Malta corporate registry data is current through 2016\",\"\"\r\n",
      "\r\n",
      "==> paradise_papers.nodes.other.csv <==\r\n",
      "\"node_id\",\"name\",\"country_codes\",\"countries\",\"sourceID\",\"valid_until\",\"note\"\r\n",
      "\"85004929\",\"ANTAM ENTERPRISES N.V.\",\"\",\"\",\"Paradise Papers - Aruba corporate registry\",\"Aruba corporate registry data is current through 2016\",\"Closed date stands for Cancelled date.\"\r\n",
      "\"85008443\",\"DEVIATION N.V.\",\"\",\"\",\"Paradise Papers - Aruba corporate registry\",\"Aruba corporate registry data is current through 2016\",\"\"\r\n",
      "\"85008517\",\"ARIAZI N.V.\",\"\",\"\",\"Paradise Papers - Aruba corporate registry\",\"Aruba corporate registry data is current through 2016\",\"Closed date stands for Cancelled date.\"\r\n"
     ]
    }
   ],
   "source": [
    "!cd csv_paradise_papers/ && head paradise_papers.* -n 4"
   ]
  },
  {
   "cell_type": "code",
   "execution_count": 4,
   "id": "retired-pasta",
   "metadata": {},
   "outputs": [],
   "source": [
    "import findspark\n",
    "findspark.init()\n",
    "import pyspark \n",
    "\n",
    "from IPython.core.display import display,HTML\n",
    "from pyspark.sql import SparkSession\n",
    "spark = SparkSession.builder.appName(\"Paradise Paper\") \\\n",
    "  .config(\"spark.driver.memory\", \"4G\") \\\n",
    "  .config(\"spark.executor.memory\", \"4G\") \\\n",
    "  .config(\"spark.jars.packages\",'graphframes:graphframes:0.8.1-spark3.0-s_2.12') \\\n",
    "  .getOrCreate()\n"
   ]
  },
  {
   "cell_type": "code",
   "execution_count": 5,
   "id": "unauthorized-disability",
   "metadata": {},
   "outputs": [
    {
     "name": "stdout",
     "output_type": "stream",
     "text": [
      "root\n",
      " |-- START_ID: string (nullable = true)\n",
      " |-- TYPE: string (nullable = true)\n",
      " |-- END_ID: string (nullable = true)\n",
      " |-- link: string (nullable = true)\n",
      " |-- start_date: string (nullable = true)\n",
      " |-- end_date: string (nullable = true)\n",
      " |-- sourceID: string (nullable = true)\n",
      " |-- valid_until: string (nullable = true)\n",
      "\n"
     ]
    },
    {
     "data": {
      "text/html": [
       "<div>\n",
       "<style scoped>\n",
       "    .dataframe tbody tr th:only-of-type {\n",
       "        vertical-align: middle;\n",
       "    }\n",
       "\n",
       "    .dataframe tbody tr th {\n",
       "        vertical-align: top;\n",
       "    }\n",
       "\n",
       "    .dataframe thead th {\n",
       "        text-align: right;\n",
       "    }\n",
       "</style>\n",
       "<table border=\"1\" class=\"dataframe\">\n",
       "  <thead>\n",
       "    <tr style=\"text-align: right;\">\n",
       "      <th></th>\n",
       "      <th>START_ID</th>\n",
       "      <th>TYPE</th>\n",
       "      <th>END_ID</th>\n",
       "      <th>link</th>\n",
       "      <th>start_date</th>\n",
       "      <th>end_date</th>\n",
       "      <th>sourceID</th>\n",
       "      <th>valid_until</th>\n",
       "    </tr>\n",
       "  </thead>\n",
       "  <tbody>\n",
       "    <tr>\n",
       "      <th>0</th>\n",
       "      <td>85004927</td>\n",
       "      <td>registered_address</td>\n",
       "      <td>88000379</td>\n",
       "      <td>registered address</td>\n",
       "      <td>None</td>\n",
       "      <td>None</td>\n",
       "      <td>Paradise Papers - Aruba corporate registry</td>\n",
       "      <td>Aruba corporate registry data is current throu...</td>\n",
       "    </tr>\n",
       "    <tr>\n",
       "      <th>1</th>\n",
       "      <td>85004928</td>\n",
       "      <td>registered_address</td>\n",
       "      <td>88016409</td>\n",
       "      <td>registered address</td>\n",
       "      <td>None</td>\n",
       "      <td>None</td>\n",
       "      <td>Paradise Papers - Aruba corporate registry</td>\n",
       "      <td>Aruba corporate registry data is current throu...</td>\n",
       "    </tr>\n",
       "    <tr>\n",
       "      <th>2</th>\n",
       "      <td>85004929</td>\n",
       "      <td>registered_address</td>\n",
       "      <td>88005855</td>\n",
       "      <td>registered address</td>\n",
       "      <td>None</td>\n",
       "      <td>None</td>\n",
       "      <td>Paradise Papers - Aruba corporate registry</td>\n",
       "      <td>Aruba corporate registry data is current throu...</td>\n",
       "    </tr>\n",
       "    <tr>\n",
       "      <th>3</th>\n",
       "      <td>85004929</td>\n",
       "      <td>connected_to</td>\n",
       "      <td>85008101</td>\n",
       "      <td>connected to</td>\n",
       "      <td>None</td>\n",
       "      <td>None</td>\n",
       "      <td>Paradise Papers - Aruba corporate registry</td>\n",
       "      <td>Aruba corporate registry data is current throu...</td>\n",
       "    </tr>\n",
       "    <tr>\n",
       "      <th>4</th>\n",
       "      <td>85004929</td>\n",
       "      <td>connected_to</td>\n",
       "      <td>85021444</td>\n",
       "      <td>connected to</td>\n",
       "      <td>None</td>\n",
       "      <td>None</td>\n",
       "      <td>Paradise Papers - Aruba corporate registry</td>\n",
       "      <td>Aruba corporate registry data is current throu...</td>\n",
       "    </tr>\n",
       "  </tbody>\n",
       "</table>\n",
       "</div>"
      ],
      "text/plain": [
       "   START_ID                TYPE    END_ID                link start_date  \\\n",
       "0  85004927  registered_address  88000379  registered address       None   \n",
       "1  85004928  registered_address  88016409  registered address       None   \n",
       "2  85004929  registered_address  88005855  registered address       None   \n",
       "3  85004929        connected_to  85008101        connected to       None   \n",
       "4  85004929        connected_to  85021444        connected to       None   \n",
       "\n",
       "  end_date                                    sourceID  \\\n",
       "0     None  Paradise Papers - Aruba corporate registry   \n",
       "1     None  Paradise Papers - Aruba corporate registry   \n",
       "2     None  Paradise Papers - Aruba corporate registry   \n",
       "3     None  Paradise Papers - Aruba corporate registry   \n",
       "4     None  Paradise Papers - Aruba corporate registry   \n",
       "\n",
       "                                         valid_until  \n",
       "0  Aruba corporate registry data is current throu...  \n",
       "1  Aruba corporate registry data is current throu...  \n",
       "2  Aruba corporate registry data is current throu...  \n",
       "3  Aruba corporate registry data is current throu...  \n",
       "4  Aruba corporate registry data is current throu...  "
      ]
     },
     "execution_count": 5,
     "metadata": {},
     "output_type": "execute_result"
    }
   ],
   "source": [
    "edges_csv_path = \"csv_paradise_papers/paradise_papers.edges.csv\"\n",
    "edgesDF = spark.read.format(\"com.databricks.spark.csv\").option(\"header\", \"true\") \\\n",
    "                    .load(edges_csv_path)\n",
    "edgesDF.createOrReplaceTempView(\"edges\")\n",
    "edgesDF.printSchema()\n",
    "\n",
    "edgesDF.limit(10).toPandas().head()"
   ]
  },
  {
   "cell_type": "code",
   "execution_count": 3,
   "id": "documentary-effectiveness",
   "metadata": {},
   "outputs": [
    {
     "data": {
      "text/html": [
       "<div>\n",
       "<style scoped>\n",
       "    .dataframe tbody tr th:only-of-type {\n",
       "        vertical-align: middle;\n",
       "    }\n",
       "\n",
       "    .dataframe tbody tr th {\n",
       "        vertical-align: top;\n",
       "    }\n",
       "\n",
       "    .dataframe thead th {\n",
       "        text-align: right;\n",
       "    }\n",
       "</style>\n",
       "<table border=\"1\" class=\"dataframe\">\n",
       "  <thead>\n",
       "    <tr style=\"text-align: right;\">\n",
       "      <th></th>\n",
       "      <th>TYPE</th>\n",
       "      <th>TOTAL</th>\n",
       "    </tr>\n",
       "  </thead>\n",
       "  <tbody>\n",
       "    <tr>\n",
       "      <th>0</th>\n",
       "      <td>same_as</td>\n",
       "      <td>166</td>\n",
       "    </tr>\n",
       "    <tr>\n",
       "      <th>1</th>\n",
       "      <td>same_id_as</td>\n",
       "      <td>3120</td>\n",
       "    </tr>\n",
       "    <tr>\n",
       "      <th>2</th>\n",
       "      <td>connected_to</td>\n",
       "      <td>12145</td>\n",
       "    </tr>\n",
       "    <tr>\n",
       "      <th>3</th>\n",
       "      <td>same_name_as</td>\n",
       "      <td>59500</td>\n",
       "    </tr>\n",
       "    <tr>\n",
       "      <th>4</th>\n",
       "      <td>intermediary_of</td>\n",
       "      <td>99695</td>\n",
       "    </tr>\n",
       "    <tr>\n",
       "      <th>5</th>\n",
       "      <td>registered_address</td>\n",
       "      <td>450551</td>\n",
       "    </tr>\n",
       "    <tr>\n",
       "      <th>6</th>\n",
       "      <td>officer_of</td>\n",
       "      <td>1032661</td>\n",
       "    </tr>\n",
       "  </tbody>\n",
       "</table>\n",
       "</div>"
      ],
      "text/plain": [
       "                 TYPE    TOTAL\n",
       "0             same_as      166\n",
       "1          same_id_as     3120\n",
       "2        connected_to    12145\n",
       "3        same_name_as    59500\n",
       "4     intermediary_of    99695\n",
       "5  registered_address   450551\n",
       "6          officer_of  1032661"
      ]
     },
     "execution_count": 3,
     "metadata": {},
     "output_type": "execute_result"
    }
   ],
   "source": [
    "df = spark.sql(\"SELECT TYPE, count(*) as TOTAL FROM edges GROUP BY TYPE ORDER BY TOTAL\")\n",
    "pandas_df = df.toPandas()\n",
    "pandas_df.head(10)"
   ]
  },
  {
   "cell_type": "code",
   "execution_count": 131,
   "id": "successful-fireplace",
   "metadata": {},
   "outputs": [],
   "source": [
    "from IPython.core.display import display, HTML\n",
    "from string import Template\n",
    "import pandas as pd\n",
    "import json, random\n",
    "from andromeda import *"
   ]
  },
  {
   "cell_type": "code",
   "execution_count": 9,
   "id": "early-rates",
   "metadata": {},
   "outputs": [
    {
     "data": {
      "text/html": [
       "\n",
       "<style> \n",
       "\n",
       ".bar {\n",
       "  fill: steelblue;\n",
       "}\n",
       "\n",
       ".bar:hover {\n",
       "  fill: brown;\n",
       "}\n",
       "\n",
       ".axis {\n",
       "  font: 10px sans-serif;\n",
       "}\n",
       "\n",
       ".axis path,\n",
       ".axis line {\n",
       "  fill: none;\n",
       "  stroke: #000;\n",
       "  shape-rendering: crispEdges;\n",
       "}\n",
       "\n",
       ".x.axis path {\n",
       "  display: none;\n",
       "}\n",
       "\n",
       " </style>\n",
       "<div id=\"graph-div\"></div>\n",
       "<script> \n",
       "\n",
       "var margin = {top: 20, right: 20, bottom: 30, left: 80},\n",
       "    width = 800 - margin.left - margin.right,\n",
       "    height = 500 - margin.top - margin.bottom;\n",
       "\n",
       "var x = d3.scale.ordinal()\n",
       "    .rangeRoundBands([0, width], .1);\n",
       "\n",
       "var y = d3.scale.linear()\n",
       "    .range([height, 0]);\n",
       "\n",
       "var xAxis = d3.svg.axis()\n",
       "    .scale(x)\n",
       "    .orient(\"bottom\");\n",
       "\n",
       "var yAxis = d3.svg.axis()\n",
       "    .scale(y)\n",
       "    .orient(\"left\");\n",
       "\n",
       "var svg = d3.select(\"#graph-div\").append(\"svg\")\n",
       "    .attr(\"width\", width + margin.left + margin.right)\n",
       "    .attr(\"height\", height + margin.top + margin.bottom)\n",
       "  .append(\"g\")\n",
       "    .attr(\"transform\", \"translate(\" + margin.left + \",\" + margin.top + \")\");\n",
       "\n",
       "var data = [{\"TYPE\": \"same_as\", \"TOTAL\": 166}, {\"TYPE\": \"same_id_as\", \"TOTAL\": 3120}, {\"TYPE\": \"connected_to\", \"TOTAL\": 12145}, {\"TYPE\": \"same_name_as\", \"TOTAL\": 59500}, {\"TYPE\": \"intermediary_of\", \"TOTAL\": 99695}, {\"TYPE\": \"registered_address\", \"TOTAL\": 450551}, {\"TYPE\": \"officer_of\", \"TOTAL\": 1032661}] ;\n",
       "\n",
       "  x.domain(data.map(function(d) { return d.TYPE; }));\n",
       "  y.domain([0, d3.max(data, function(d) { return d.TOTAL; })]);\n",
       "\n",
       "  svg.append(\"g\")\n",
       "      .attr(\"class\", \"x axis\")\n",
       "      .attr(\"transform\", \"translate(0,\" + height + \")\")\n",
       "      .call(xAxis);\n",
       "\n",
       "  svg.append(\"g\")\n",
       "      .attr(\"class\", \"y axis\")\n",
       "      .attr(\"y\", -margin.left+20)\n",
       "      .call(yAxis);\n",
       "\n",
       "  svg.selectAll(\".bar\")\n",
       "      .data(data)\n",
       "    .enter().append(\"rect\")\n",
       "      .attr(\"class\", \"bar\")\n",
       "      .attr(\"x\", function(d) { return x(d.TYPE); })\n",
       "      .attr(\"width\", x.rangeBand())\n",
       "      .attr(\"y\", function(d) { return y(d.TOTAL); })\n",
       "      .attr(\"height\", function(d) { return height - y(d.TOTAL); });\n",
       "\n",
       " </script>\n"
      ],
      "text/plain": [
       "<IPython.core.display.HTML object>"
      ]
     },
     "execution_count": 9,
     "metadata": {},
     "output_type": "execute_result"
    }
   ],
   "source": [
    "HTML('<script src=\"./d3.min.js\"></script>')\n",
    "HTML(display_bar(pandas_df))"
   ]
  },
  {
   "cell_type": "code",
   "execution_count": 6,
   "id": "applicable-paintball",
   "metadata": {},
   "outputs": [
    {
     "name": "stdout",
     "output_type": "stream",
     "text": [
      "addresses\n",
      "root\n",
      " |-- node_id: string (nullable = true)\n",
      " |-- name: string (nullable = true)\n",
      " |-- address: string (nullable = true)\n",
      " |-- country_codes: string (nullable = true)\n",
      " |-- countries: string (nullable = true)\n",
      " |-- sourceID: string (nullable = true)\n",
      " |-- valid_until: string (nullable = true)\n",
      " |-- note: string (nullable = true)\n",
      "\n",
      "entity\n",
      "root\n",
      " |-- node_id: string (nullable = true)\n",
      " |-- name: string (nullable = true)\n",
      " |-- jurisdiction: string (nullable = true)\n",
      " |-- jurisdiction_description: string (nullable = true)\n",
      " |-- country_codes: string (nullable = true)\n",
      " |-- countries: string (nullable = true)\n",
      " |-- incorporation_date: string (nullable = true)\n",
      " |-- inactivation_date: string (nullable = true)\n",
      " |-- struck_off_date: string (nullable = true)\n",
      " |-- closed_date: string (nullable = true)\n",
      " |-- ibcRUC: string (nullable = true)\n",
      " |-- status: string (nullable = true)\n",
      " |-- company_type: string (nullable = true)\n",
      " |-- service_provider: string (nullable = true)\n",
      " |-- sourceID: string (nullable = true)\n",
      " |-- valid_until: string (nullable = true)\n",
      " |-- note: string (nullable = true)\n",
      "\n",
      "intermediary\n",
      "root\n",
      " |-- node_id: string (nullable = true)\n",
      " |-- name: string (nullable = true)\n",
      " |-- country_codes: string (nullable = true)\n",
      " |-- countries: string (nullable = true)\n",
      " |-- sourceID: string (nullable = true)\n",
      " |-- valid_until: string (nullable = true)\n",
      " |-- note: string (nullable = true)\n",
      "\n",
      "officer\n",
      "root\n",
      " |-- node_id: string (nullable = true)\n",
      " |-- name: string (nullable = true)\n",
      " |-- country_codes: string (nullable = true)\n",
      " |-- countries: string (nullable = true)\n",
      " |-- status: string (nullable = true)\n",
      " |-- sourceID: string (nullable = true)\n",
      " |-- valid_until: string (nullable = true)\n",
      " |-- note: string (nullable = true)\n",
      "\n",
      "other\n",
      "root\n",
      " |-- node_id: string (nullable = true)\n",
      " |-- name: string (nullable = true)\n",
      " |-- country_codes: string (nullable = true)\n",
      " |-- countries: string (nullable = true)\n",
      " |-- sourceID: string (nullable = true)\n",
      " |-- valid_until: string (nullable = true)\n",
      " |-- note: string (nullable = true)\n",
      "\n"
     ]
    }
   ],
   "source": [
    "addresses_csv_path = \"csv_paradise_papers/paradise_papers.nodes.address.csv\"\n",
    "entity_csv_path =\"csv_paradise_papers/paradise_papers.nodes.entity.csv\"\n",
    "intermediary_csv_path =\"csv_paradise_papers/paradise_papers.nodes.intermediary.csv\"\n",
    "officer_csv_path =\"csv_paradise_papers/paradise_papers.nodes.officer.csv\"\n",
    "other_csv_path =\"csv_paradise_papers/paradise_papers.nodes.other.csv\"\n",
    "def load(path,name):\n",
    "    df= spark.read.format(\"com.databricks.spark.csv\") \\\n",
    "        .option(\"header\", \"true\") \\\n",
    "        .load(path)\n",
    "    print(name)\n",
    "    df.createOrReplaceTempView(name)\n",
    "    df.printSchema()\n",
    "    return  df\n",
    "\n",
    "addresses = load(addresses_csv_path,\"addresses\")\n",
    "entity = load(entity_csv_path, \"entity\")\n",
    "intermediary = load(intermediary_csv_path, \"intermediary\")\n",
    "officer = load(officer_csv_path, \"officer\")\n",
    "other = load(other_csv_path,\"other\")\n"
   ]
  },
  {
   "cell_type": "code",
   "execution_count": 14,
   "id": "creative-brain",
   "metadata": {},
   "outputs": [
    {
     "data": {
      "text/html": [
       "<div>\n",
       "<style scoped>\n",
       "    .dataframe tbody tr th:only-of-type {\n",
       "        vertical-align: middle;\n",
       "    }\n",
       "\n",
       "    .dataframe tbody tr th {\n",
       "        vertical-align: top;\n",
       "    }\n",
       "\n",
       "    .dataframe thead th {\n",
       "        text-align: right;\n",
       "    }\n",
       "</style>\n",
       "<table border=\"1\" class=\"dataframe\">\n",
       "  <thead>\n",
       "    <tr style=\"text-align: right;\">\n",
       "      <th></th>\n",
       "      <th>countries</th>\n",
       "      <th>TOTAL</th>\n",
       "    </tr>\n",
       "  </thead>\n",
       "  <tbody>\n",
       "    <tr>\n",
       "      <th>0</th>\n",
       "      <td>Malta</td>\n",
       "      <td>44564</td>\n",
       "    </tr>\n",
       "    <tr>\n",
       "      <th>1</th>\n",
       "      <td>United States</td>\n",
       "      <td>19020</td>\n",
       "    </tr>\n",
       "    <tr>\n",
       "      <th>2</th>\n",
       "      <td>United Kingdom</td>\n",
       "      <td>8354</td>\n",
       "    </tr>\n",
       "    <tr>\n",
       "      <th>3</th>\n",
       "      <td>Italy</td>\n",
       "      <td>6117</td>\n",
       "    </tr>\n",
       "    <tr>\n",
       "      <th>4</th>\n",
       "      <td>Samoa</td>\n",
       "      <td>4302</td>\n",
       "    </tr>\n",
       "    <tr>\n",
       "      <th>5</th>\n",
       "      <td>China</td>\n",
       "      <td>3469</td>\n",
       "    </tr>\n",
       "    <tr>\n",
       "      <th>6</th>\n",
       "      <td>Hong Kong</td>\n",
       "      <td>3461</td>\n",
       "    </tr>\n",
       "    <tr>\n",
       "      <th>7</th>\n",
       "      <td>Bermuda</td>\n",
       "      <td>3079</td>\n",
       "    </tr>\n",
       "    <tr>\n",
       "      <th>8</th>\n",
       "      <td>Germany</td>\n",
       "      <td>2724</td>\n",
       "    </tr>\n",
       "    <tr>\n",
       "      <th>9</th>\n",
       "      <td>British Virgin Islands</td>\n",
       "      <td>2565</td>\n",
       "    </tr>\n",
       "  </tbody>\n",
       "</table>\n",
       "</div>"
      ],
      "text/plain": [
       "                countries  TOTAL\n",
       "0                   Malta  44564\n",
       "1           United States  19020\n",
       "2          United Kingdom   8354\n",
       "3                   Italy   6117\n",
       "4                   Samoa   4302\n",
       "5                   China   3469\n",
       "6               Hong Kong   3461\n",
       "7                 Bermuda   3079\n",
       "8                 Germany   2724\n",
       "9  British Virgin Islands   2565"
      ]
     },
     "execution_count": 14,
     "metadata": {},
     "output_type": "execute_result"
    }
   ],
   "source": [
    "df = spark.sql(\"SELECT countries, count(*) as TOTAL FROM officer WHERE countries!= 'None' GROUP BY countries ORDER BY TOTAL desc\")\n",
    "pandas_df = df.limit(100).toPandas()\n",
    "pandas_df.head(10)"
   ]
  },
  {
   "cell_type": "code",
   "execution_count": 24,
   "id": "designed-brick",
   "metadata": {},
   "outputs": [
    {
     "data": {
      "text/plain": [
       "<AxesSubplot:xlabel='countries', ylabel='TOTAL'>"
      ]
     },
     "execution_count": 24,
     "metadata": {},
     "output_type": "execute_result"
    },
    {
     "data": {
      "image/png": "[encoded data removed]",
      "text/plain": [
       "<Figure size 720x720 with 1 Axes>"
      ]
     },
     "metadata": {
      "needs_background": "light"
     },
     "output_type": "display_data"
    }
   ],
   "source": [
    "import seaborn as sns\n",
    "from matplotlib import pyplot as plt\n",
    "plt.xticks(rotation=-90)\n",
    "plt.rcParams['figure.figsize']=(10,10)\n",
    "sns.barplot(x=\"countries\", y=\"TOTAL\", data=pandas_df.head(40))\n"
   ]
  },
  {
   "cell_type": "code",
   "execution_count": 155,
   "id": "genetic-cologne",
   "metadata": {},
   "outputs": [
    {
     "name": "stdout",
     "output_type": "stream",
     "text": [
      "+--------+-----------------------------------------------------------------------------------------------------------------+\n",
      "|id      |name                                                                                                             |\n",
      "+--------+-----------------------------------------------------------------------------------------------------------------+\n",
      "|81014280|12F.-2, No. 768, Sec. 2; Yonghua Rd.; Anping Dist; Tainan City 708; Taiwan                                       |\n",
      "|81014731|3/F., 25 Tsung Man Street; Aberdeen; Hong Kong                                                                   |\n",
      "|81015190|11 Moorfields High Walk; London; EC2Y 9DY; United Kingdom                                                        |\n",
      "|81015650|17 Toranomon Towers Office; 4-1-28 Toranomon; Minato-Ku Tokyo  105-0001; Japan                                   |\n",
      "|81015946|PO Box 30076 SMB; George Town; Grand Cayman; Cayman Islands                                                      |\n",
      "|81016706|British American Insurance House; Marlborough Street; Nassau; Bahamas                                            |\n",
      "|81017623|c/o Playboy Enterprises International, Inc.; 680 N. Lake Shore Drive; Chicago, IL 60611; United States of America|\n",
      "|81019420|390 Greenwich Street; 3rd Floor; New York NY  10013; United States of America                                    |\n",
      "|81019866|Flat A, 13th Floor; On Fung Mansion; 110-118 Caine Road; Hong Kong                                               |\n",
      "|81020119|381 AI Tower 12 Fl; Surawong Road; Bangkok 10500; Thailand                                                       |\n",
      "+--------+-----------------------------------------------------------------------------------------------------------------+\n",
      "only showing top 10 rows\n",
      "\n",
      "Total Nodes : 867931\n",
      "+--------+--------+------------------+\n",
      "|     src|     dst|      relationship|\n",
      "+--------+--------+------------------+\n",
      "|85004927|88000379|registered_address|\n",
      "|85004928|88016409|registered_address|\n",
      "|85004929|88005855|registered_address|\n",
      "|85004929|85008101|      connected_to|\n",
      "|85004929|85021444|      connected_to|\n",
      "|85004930|88000976|registered_address|\n",
      "|85008431|88004643|registered_address|\n",
      "|85008432|88004128|registered_address|\n",
      "|85008433|88002050|registered_address|\n",
      "|85008434|88012829|registered_address|\n",
      "+--------+--------+------------------+\n",
      "only showing top 10 rows\n",
      "\n",
      "Total Edges : 1657838\n"
     ]
    }
   ],
   "source": [
    "vertices = spark.sql('''\n",
    "               SELECT node_id, name FROM addresses UNION\n",
    "               SELECT node_id, name FROM entity UNION\n",
    "               SELECT node_id, name FROM intermediary UNION\n",
    "               SELECT node_id, name FROM officer UNION\n",
    "               SELECT node_id, name FROM other\n",
    "               ''').toDF(\"id\",\"name\")\n",
    "vertices.show(10,False)\n",
    "print(f\"Total Nodes : {vertices.count()}\")\n",
    "edges = spark.sql(\"SELECT START_ID as src,END_ID as dst, trim(TYPE) as relationship FROM edges\")\n",
    "edges.show(10)\n",
    "print(f\"Total Edges : {edges.count()}\")\n"
   ]
  },
  {
   "cell_type": "code",
   "execution_count": 43,
   "id": "neural-training",
   "metadata": {},
   "outputs": [
    {
     "name": "stdout",
     "output_type": "stream",
     "text": [
      "+--------+------------------+\n",
      "|      id|              name|\n",
      "+--------+------------------+\n",
      "|39062322|SANTOS JUAN MANUEL|\n",
      "+--------+------------------+\n",
      "\n",
      "+--------+--------+------------+\n",
      "|     src|     dst|relationship|\n",
      "+--------+--------+------------+\n",
      "|39062322|39031113|  officer_of|\n",
      "|39062322|39031075|  officer_of|\n",
      "+--------+--------+------------+\n",
      "\n",
      "+--------+------------------------------------------------+\n",
      "|id      |name                                            |\n",
      "+--------+------------------------------------------------+\n",
      "|39031113|GLOBAL TUITION & EDUCATION INSURANCE CORPORATION|\n",
      "+--------+------------------------------------------------+\n",
      "\n",
      "+--------+--------+------------------+\n",
      "|src     |dst     |relationship      |\n",
      "+--------+--------+------------------+\n",
      "|39031113|39184625|registered_address|\n",
      "|39031113|39172370|registered_address|\n",
      "+--------+--------+------------------+\n",
      "\n",
      "+--------+-----------------------------------------------------------------------+\n",
      "|id      |name                                                                   |\n",
      "+--------+-----------------------------------------------------------------------+\n",
      "|39184625|ST. JAMES HOUSE, SECOND STREET, HOLETOWN, ST. JAMES, BARBADOS, BB24016.|\n",
      "+--------+-----------------------------------------------------------------------+\n",
      "\n"
     ]
    }
   ],
   "source": [
    "vertices.where(\"id=39062322\").show(10)\n",
    "edges.where(\"src=39062322\").show(10)\n",
    "vertices.where(\"id=39031113\").show(10,False)\n",
    "edges.where(\"src=39031113\").show(10,False)\n",
    "vertices.where(\"id=39184625\").show(10,False)\n"
   ]
  },
  {
   "cell_type": "code",
   "execution_count": 32,
   "id": "significant-transaction",
   "metadata": {},
   "outputs": [
    {
     "data": {
      "text/plain": [
       "GraphFrame(v:[id: string, name: string], e:[src: string, dst: string ... 1 more field])"
      ]
     },
     "execution_count": 32,
     "metadata": {},
     "output_type": "execute_result"
    }
   ],
   "source": [
    "from functools import reduce\n",
    "from pyspark.sql.functions import col, lit, when\n",
    "from graphframes import *\n",
    "g = GraphFrame(vertices, edges)\n",
    "g"
   ]
  },
  {
   "cell_type": "code",
   "execution_count": 46,
   "id": "coastal-instrument",
   "metadata": {},
   "outputs": [
    {
     "name": "stdout",
     "output_type": "stream",
     "text": [
      "+---------+--------+\n",
      "|       id|inDegree|\n",
      "+---------+--------+\n",
      "| 81027146|    9268|\n",
      "| 81027090|    8558|\n",
      "| 81029389|    6120|\n",
      "| 58007938|    2505|\n",
      "| 88002083|    2339|\n",
      "| 81027087|    2101|\n",
      "|120001922|    1782|\n",
      "| 81001128|    1318|\n",
      "| 58009618|    1277|\n",
      "| 58044817|    1266|\n",
      "| 81073055|    1143|\n",
      "| 88006887|     975|\n",
      "| 88007148|     880|\n",
      "| 88016591|     878|\n",
      "|120007215|     868|\n",
      "| 58034506|     816|\n",
      "| 88016590|     812|\n",
      "| 81010180|     792|\n",
      "| 58005164|     738|\n",
      "|120006498|     711|\n",
      "+---------+--------+\n",
      "only showing top 20 rows\n",
      "\n"
     ]
    }
   ],
   "source": [
    "g.inDegrees.orderBy(col(\"inDegree\").desc()).show(20)\n"
   ]
  },
  {
   "cell_type": "code",
   "execution_count": 153,
   "id": "accepting-refund",
   "metadata": {},
   "outputs": [
    {
     "name": "stdout",
     "output_type": "stream",
     "text": [
      "csv_paradise_papers/paradise_papers.nodes.address.csv:\"81027146\",\"Clifton House; 75 Fort Street; Grand Cayman KY1-1108; Cayman Islands\",\"Clifton House\",\"CYM\",\"Cayman Islands\",\"Paradise Papers - Appleby\",\"Appleby data is current through 2014\",\"\"\n",
      "csv_paradise_papers/paradise_papers.nodes.address.csv:\"81027090\",\"Canon's Court; 22 Victoria Street; Hamilton; HM 12; Bermuda\",\"Canon's Court\",\"BMU\",\"Bermuda\",\"Paradise Papers - Appleby\",\"Appleby data is current through 2014\",\"\"\n",
      "csv_paradise_papers/paradise_papers.nodes.address.csv:\"81029389\",\"Argyle House; 41a Cedar Avenue; Hamilton HM 12; Bermuda\",\"Argyle House\",\"BMU\",\"Bermuda\",\"Paradise Papers - Appleby\",\"Appleby data is current through 2014\",\"\"\n",
      "csv_paradise_papers/paradise_papers.nodes.entity.csv:\"55050286\",\"ANGLER GAMING PLC\",\"MLT\",\"Malta\",\"MLT\",\"Malta\",\"08-FEB-2012\",\"\",\"\",\"\",\"C55255\",\"\",\"\",\"\",\"Paradise Papers - Malta corporate registry\",\"Malta corporate registry data is current through 2016\",\"\"\n"
     ]
    }
   ],
   "source": [
    "!grep 81027146 csv_paradise_papers/paradise_papers.nodes.*\n",
    "!grep 81027090 csv_paradise_papers/paradise_papers.nodes.*\n",
    "!grep 81029389 csv_paradise_papers/paradise_papers.nodes.*\n",
    "# !grep 39077348 csv_paradise_papers/paradise_papers.nodes.*\n",
    "!grep 55050286 csv_paradise_papers/paradise_papers.nodes.*\n"
   ]
  },
  {
   "cell_type": "markdown",
   "id": "august-collar",
   "metadata": {},
   "source": [
    "# Motif finding\n",
    "Motif finding refers to searching for structural patterns in a graph.\n",
    "\n",
    "GraphFrame motif finding uses a simple Domain-Specific Language (DSL) for expressing structural queries. For example, graph.find(\"(a)-[e]->(b); (b)-[e2]->(a)\") will search for pairs of vertices a,b connected by edges in both directions. It will return a DataFrame of all such structures in the graph, with columns for each of the named elements (vertices or edges) in the motif. In this case, the returned columns will be “a, b, e, e2.”"
   ]
  },
  {
   "cell_type": "code",
   "execution_count": 150,
   "id": "documented-dominican",
   "metadata": {},
   "outputs": [
    {
     "name": "stdout",
     "output_type": "stream",
     "text": [
      "+------------------------+------------------------------------------------+\n",
      "|name                    |name                                            |\n",
      "+------------------------+------------------------------------------------+\n",
      "|HARRIDYAL-SODHA LIZA    |GLOBAL TUITION & EDUCATION INSURANCE CORPORATION|\n",
      "|PUNGILUPPI CRISTINA     |GLOBAL TUITION & EDUCATION INSURANCE CORPORATION|\n",
      "|Euroyacht Limited       |GLOBAL TUITION & EDUCATION INSURANCE CORPORATION|\n",
      "|GAVIRIA JUAN CARLOS     |GLOBAL TUITION & EDUCATION INSURANCE CORPORATION|\n",
      "|GAVIRIA SIMON           |GLOBAL TUITION & EDUCATION INSURANCE CORPORATION|\n",
      "|DI GIACOMO THOMAS A.    |GLOBAL TUITION & EDUCATION INSURANCE CORPORATION|\n",
      "|ALEANS ALEXANDRA B. P.  |GLOBAL TUITION & EDUCATION INSURANCE CORPORATION|\n",
      "|DIGIACOMO THOMAS A.     |GLOBAL TUITION & EDUCATION INSURANCE CORPORATION|\n",
      "|RAMIREZ CARLOS HERNANDEZ|GLOBAL TUITION & EDUCATION INSURANCE CORPORATION|\n",
      "|LESLIE JOHN W.          |GLOBAL TUITION & EDUCATION INSURANCE CORPORATION|\n",
      "|CRICHLOW NICHOLAS C.    |GLOBAL TUITION & EDUCATION INSURANCE CORPORATION|\n",
      "|DAZA FELIPE             |GLOBAL TUITION & EDUCATION INSURANCE CORPORATION|\n",
      "|BRUCE THOMAS W          |GLOBAL TUITION & EDUCATION INSURANCE CORPORATION|\n",
      "|DOUER PAULA             |GLOBAL TUITION & EDUCATION INSURANCE CORPORATION|\n",
      "|PEISACH ALBERTO         |GLOBAL TUITION & EDUCATION INSURANCE CORPORATION|\n",
      "|POSADA JUAN FERNANDO    |GLOBAL TUITION & EDUCATION INSURANCE CORPORATION|\n",
      "|DAZA LUIS FELIPE        |GLOBAL TUITION & EDUCATION INSURANCE CORPORATION|\n",
      "|VILLEGAS ALVARO         |GLOBAL TUITION & EDUCATION INSURANCE CORPORATION|\n",
      "|MONTJOY WILLIAM W       |GLOBAL TUITION & EDUCATION INSURANCE CORPORATION|\n",
      "|BRUCE THOMAS W.         |GLOBAL TUITION & EDUCATION INSURANCE CORPORATION|\n",
      "+------------------------+------------------------------------------------+\n",
      "only showing top 20 rows\n",
      "\n",
      "+---------------------------+-----------------------------------------------------------------------+\n",
      "|name                       |name                                                                   |\n",
      "+---------------------------+-----------------------------------------------------------------------+\n",
      "|DIGIACOMO THOMAS A.        |THE GROVE, 21 PINE ROAD BELLEVILLE ST MICHAEL, BARBADOS, BB11113       |\n",
      "|SANTOS JUAN MANUEL         |THE GROVE, 21 PINE ROAD BELLEVILLE ST MICHAEL, BARBADOS, BB11113       |\n",
      "|LESLIE JOHN W.             |THE GROVE, 21 PINE ROAD BELLEVILLE ST MICHAEL, BARBADOS, BB11113       |\n",
      "|BUSBY MORRIS D.            |ST. JAMES HOUSE, SECOND STREET, HOLETOWN, ST. JAMES, BARBADOS, BB24016.|\n",
      "|CYRUS KIRK E               |THE GROVE, 21 PINE ROAD BELLEVILLE ST MICHAEL, BARBADOS, BB11113       |\n",
      "|GAVIRIA SIMON              |ST. JAMES HOUSE, SECOND STREET, HOLETOWN, ST. JAMES, BARBADOS, BB24016.|\n",
      "|ALEANS ALEXANDRA B. P.     |THE GROVE, 21 PINE ROAD BELLEVILLE ST MICHAEL, BARBADOS, BB11113       |\n",
      "|BRUCE THOMAS W.            |THE GROVE, 21 PINE ROAD BELLEVILLE ST MICHAEL, BARBADOS, BB11113       |\n",
      "|BRUCE THOMAS W.            |ST. JAMES HOUSE, SECOND STREET, HOLETOWN, ST. JAMES, BARBADOS, BB24016.|\n",
      "|DIGIACOMO THOMAS A.        |ST. JAMES HOUSE, SECOND STREET, HOLETOWN, ST. JAMES, BARBADOS, BB24016.|\n",
      "|POSADA JUAN FERNANDO       |ST. JAMES HOUSE, SECOND STREET, HOLETOWN, ST. JAMES, BARBADOS, BB24016.|\n",
      "|KING DAVID N.              |THE GROVE, 21 PINE ROAD BELLEVILLE ST MICHAEL, BARBADOS, BB11113       |\n",
      "|DE GAVIRIA ANA MILENA MUNOZ|THE GROVE, 21 PINE ROAD BELLEVILLE ST MICHAEL, BARBADOS, BB11113       |\n",
      "|DAZA FELIPE                |THE GROVE, 21 PINE ROAD BELLEVILLE ST MICHAEL, BARBADOS, BB11113       |\n",
      "|DOUER PAULA                |THE GROVE, 21 PINE ROAD BELLEVILLE ST MICHAEL, BARBADOS, BB11113       |\n",
      "|GAVIRIA SIMON              |THE GROVE, 21 PINE ROAD BELLEVILLE ST MICHAEL, BARBADOS, BB11113       |\n",
      "|DI GIACOMO THOMAS A.       |THE GROVE, 21 PINE ROAD BELLEVILLE ST MICHAEL, BARBADOS, BB11113       |\n",
      "|PEISACH ALBERTO            |THE GROVE, 21 PINE ROAD BELLEVILLE ST MICHAEL, BARBADOS, BB11113       |\n",
      "|BRUCE THOMAS W             |THE GROVE, 21 PINE ROAD BELLEVILLE ST MICHAEL, BARBADOS, BB11113       |\n",
      "|SANTOS JUAN MANUEL         |ST. JAMES HOUSE, SECOND STREET, HOLETOWN, ST. JAMES, BARBADOS, BB24016.|\n",
      "+---------------------------+-----------------------------------------------------------------------+\n",
      "only showing top 20 rows\n",
      "\n"
     ]
    }
   ],
   "source": [
    "motifs = g.find(\"(a)-[e]->(b)\")\n",
    "motifs.filter(\"b.id=39031113\").select(\"a.name\",\"b.name\").distinct().show(20,False)\n",
    "motifs = g.find(\"(a)-[e]->(b);(b)-[e2]->(c)\")\n",
    "motifs.filter(\"b.id=39031113\").select(\"a.name\",\"c.name\").distinct().show(20,False)\n"
   ]
  },
  {
   "cell_type": "markdown",
   "id": "demanding-hampton",
   "metadata": {},
   "source": [
    "## Connected components\n",
    "Compute the connected component membership of each vertex and return a DataFrame with each vertex assigned a component ID. The GraphFrames connected components implementation can take advantage of checkpointing to improve performance."
   ]
  },
  {
   "cell_type": "code",
   "execution_count": 47,
   "id": "tight-pillow",
   "metadata": {},
   "outputs": [
    {
     "name": "stdout",
     "output_type": "stream",
     "text": [
      "+---------+--------------------+---------+\n",
      "|       id|                name|component|\n",
      "+---------+--------------------+---------+\n",
      "|100306296|C. F. UTILITIES S...|       26|\n",
      "|100307721|L. P. INTEGRATED ...|        0|\n",
      "|110050114|     DEANE HORACE S.|        0|\n",
      "|135095409|ARTHUR-SELMAN JAM...|        0|\n",
      "| 55045864|         TALOCAN LTD|     1452|\n",
      "| 55050286|   ANGLER GAMING PLC|     1452|\n",
      "| 55076319|FRESENIUS MEDICAL...|     1452|\n",
      "| 56018478|   BARTOLOMEO XUEREB|     1452|\n",
      "| 56037384|        MARIA DEBONO|     1452|\n",
      "| 56073937|         MIRKO CUTER|     1452|\n",
      "+---------+--------------------+---------+\n",
      "only showing top 10 rows\n",
      "\n"
     ]
    }
   ],
   "source": [
    "spark.sparkContext.setCheckpointDir(\"/tmp/graphframes-example-connected-components\")\n",
    "result = g.connectedComponents().cache()\n",
    "result.createOrReplaceTempView(\"connected\")\n",
    "result.show(10)"
   ]
  },
  {
   "cell_type": "code",
   "execution_count": 58,
   "id": "developed-blade",
   "metadata": {},
   "outputs": [
    {
     "name": "stdout",
     "output_type": "stream",
     "text": [
      "+---------+------+\n",
      "|component| total|\n",
      "+---------+------+\n",
      "|     1452|284325|\n",
      "|     3024|161754|\n",
      "|        0|161499|\n",
      "|     3842| 72375|\n",
      "|      966| 35360|\n",
      "|     1346| 16632|\n",
      "|     2969|  7566|\n",
      "|     1015|  4640|\n",
      "|     1000|  2637|\n",
      "|      980|  2605|\n",
      "+---------+------+\n",
      "only showing top 10 rows\n",
      "\n",
      "+--------+------------------+---------+\n",
      "|      id|              name|component|\n",
      "+--------+------------------+---------+\n",
      "|39062322|SANTOS JUAN MANUEL|     3024|\n",
      "+--------+------------------+---------+\n",
      "\n",
      "+--------+--------------------+---------+\n",
      "|      id|                name|component|\n",
      "+--------+--------------------+---------+\n",
      "|80040620|  Bovard - Carole J.|     3024|\n",
      "|81027910|MORGAN & MORGAN T...|     3024|\n",
      "|82009517|Fenix Financial (...|     3024|\n",
      "|80102408| Mills - Christopher|     3024|\n",
      "|80110416|Paredez - Remy Ra...|     3024|\n",
      "|80116204|    Reardon - Edward|     3024|\n",
      "|80146437|Wynsome Trading L...|     3024|\n",
      "|81017784|4501 Liberty Road...|     3024|\n",
      "|81043717|3750 State Road; ...|     3024|\n",
      "|81052058|433 Mark Drive; S...|     3024|\n",
      "+--------+--------------------+---------+\n",
      "only showing top 10 rows\n",
      "\n"
     ]
    },
    {
     "data": {
      "text/plain": [
       "20150"
      ]
     },
     "execution_count": 58,
     "metadata": {},
     "output_type": "execute_result"
    }
   ],
   "source": [
    "components_group = spark.sql(\"SELECT component, count(*) as total FROM connected GROUP BY component ORDER BY total desc\")\n",
    "components_group.show(10)\n",
    "\n",
    "\n",
    "juans_group = spark.sql(\"SELECT * FROM connected WHERE id =39062322\")\n",
    "juans_group.show(10)\n",
    "\n",
    "\n",
    "group = spark.sql(\"SELECT * FROM connected WHERE component =3024\")\n",
    "group.show(10)\n",
    "\n",
    "components_group.count()\n"
   ]
  },
  {
   "cell_type": "code",
   "execution_count": 37,
   "id": "every-disability",
   "metadata": {
    "scrolled": true
   },
   "outputs": [
    {
     "name": "stdout",
     "output_type": "stream",
     "text": [
      "+---------+------------------+\n",
      "|       id|          pagerank|\n",
      "+---------+------------------+\n",
      "|100306296|1.5111855694854572|\n",
      "|100307721|1.7708622873283673|\n",
      "|110050114| 0.718279560804816|\n",
      "|135095409|0.5596983590686878|\n",
      "| 55045864|1.5176420898418563|\n",
      "| 55050286|2.2977070374048565|\n",
      "| 55076319| 2.331482876647793|\n",
      "| 56018478|0.5596983590686878|\n",
      "| 56037384|0.5596983590686878|\n",
      "| 56073937|0.5596983590686878|\n",
      "+---------+------------------+\n",
      "only showing top 10 rows\n",
      "\n",
      "+---------+---------+--------------------+\n",
      "|      src|      dst|              weight|\n",
      "+---------+---------+--------------------+\n",
      "|110009137|110080823|               0.125|\n",
      "|110029230|110114333|                 0.5|\n",
      "|110072808|101802940|                 1.0|\n",
      "| 55035715| 58141016|                 1.0|\n",
      "| 56009486| 55038486|0.013157894736842105|\n",
      "| 56010398| 58042149|                 0.5|\n",
      "| 56015495| 58045621|                 0.5|\n",
      "| 56024892| 58011317|0.023255813953488372|\n",
      "| 56025796| 55032801|                 0.1|\n",
      "| 56025796| 55032801|                 0.1|\n",
      "+---------+---------+--------------------+\n",
      "only showing top 10 rows\n",
      "\n"
     ]
    }
   ],
   "source": [
    "results = g.pageRank(resetProbability=0.15, maxIter=10)\n",
    "results.vertices.select(\"id\", \"pagerank\").show(10)\n",
    "results.edges.select(\"src\", \"dst\", \"weight\").show(10)"
   ]
  },
  {
   "attachments": {
    "image.png": {
     "image/png": "[encoded data removed]"
    }
   },
   "cell_type": "markdown",
   "id": "second-things",
   "metadata": {},
   "source": [
    "# pandas user-defined functions\n",
    "A pandas user-defined function (UDF)—also known as vectorized UDF—is a user-defined function that uses Apache Arrow to transfer data and pandas to work with the data. pandas UDFs allow vectorized operations that can increase performance up to 100x compared to row-at-a-time Python UDFs\n",
    "![https://kontext.tech/api/flex/medias/obj-1563](attachment:image.png)"
   ]
  },
  {
   "cell_type": "code",
   "execution_count": 156,
   "id": "timely-description",
   "metadata": {},
   "outputs": [
    {
     "name": "stdout",
     "output_type": "stream",
     "text": [
      "+-----------+\n",
      "|mean_udf(v)|\n",
      "+-----------+\n",
      "|        4.2|\n",
      "+-----------+\n",
      "\n",
      "+---+-----------+\n",
      "| id|mean_udf(v)|\n",
      "+---+-----------+\n",
      "|  1|        1.5|\n",
      "|  2|        6.0|\n",
      "+---+-----------+\n",
      "\n"
     ]
    }
   ],
   "source": [
    "import pandas as pd\n",
    "from pyspark.sql.functions import pandas_udf\n",
    "from pyspark.sql import Window\n",
    "\n",
    "df = spark.createDataFrame(\n",
    "    [(1, 1.0), (1, 2.0), (2, 3.0), (2, 5.0), (2, 10.0)],\n",
    "    (\"id\", \"v\"))\n",
    "\n",
    "@pandas_udf(\"double\")\n",
    "def mean_udf(v: pd.Series) -> float:\n",
    "    return v.mean()\n",
    "\n",
    "df.select(mean_udf(df['v'])).show()\n",
    "df.groupby(\"id\").agg(mean_udf(df['v'])).show()"
   ]
  },
  {
   "cell_type": "code",
   "execution_count": 10,
   "id": "supported-comparative",
   "metadata": {},
   "outputs": [
    {
     "data": {
      "text/html": [
       "\n",
       "<style> \n",
       "\n",
       ".bar {\n",
       "  fill: steelblue;\n",
       "}\n",
       "\n",
       ".bar:hover {\n",
       "  fill: brown;\n",
       "}\n",
       "\n",
       ".axis {\n",
       "  font: 10px sans-serif;\n",
       "}\n",
       "\n",
       ".axis path,\n",
       ".axis line {\n",
       "  fill: none;\n",
       "  stroke: #000;\n",
       "  shape-rendering: crispEdges;\n",
       "}\n",
       "\n",
       ".x.axis path {\n",
       "  display: none;\n",
       "}\n",
       "\n",
       " </style>\n",
       "<div id=\"graph-div-2\"></div>\n",
       "<script> \n",
       "\n",
       "var margin = {top: 20, right: 20, bottom: 30, left: 80},\n",
       "    width = 800 - margin.left - margin.right,\n",
       "    height = 500 - margin.top - margin.bottom;\n",
       "\n",
       "var x = d3.scale.ordinal()\n",
       "    .rangeRoundBands([0, width], .1);\n",
       "\n",
       "var y = d3.scale.linear()\n",
       "    .range([height, 0]);\n",
       "\n",
       "var xAxis = d3.svg.axis()\n",
       "    .scale(x)\n",
       "    .orient(\"bottom\");\n",
       "\n",
       "var yAxis = d3.svg.axis()\n",
       "    .scale(y)\n",
       "    .orient(\"left\");\n",
       "\n",
       "var svg = d3.select(\"#graph-div-2\").append(\"svg\")\n",
       "    .attr(\"width\", width + margin.left + margin.right)\n",
       "    .attr(\"height\", height + margin.top + margin.bottom)\n",
       "  .append(\"g\")\n",
       "    .attr(\"transform\", \"translate(\" + margin.left + \",\" + margin.top + \")\");\n",
       "\n",
       "var data = [{\"TYPE\": \"same_as\", \"TOTAL\": 166}, {\"TYPE\": \"same_id_as\", \"TOTAL\": 3120}, {\"TYPE\": \"connected_to\", \"TOTAL\": 12145}, {\"TYPE\": \"same_name_as\", \"TOTAL\": 59500}, {\"TYPE\": \"intermediary_of\", \"TOTAL\": 99695}, {\"TYPE\": \"registered_address\", \"TOTAL\": 450551}, {\"TYPE\": \"officer_of\", \"TOTAL\": 1032661}] ;\n",
       "\n",
       "  x.domain(data.map(function(d) { return d.TYPE; }));\n",
       "  y.domain([0, d3.max(data, function(d) { return d.TOTAL; })]);\n",
       "\n",
       "  svg.append(\"g\")\n",
       "      .attr(\"class\", \"x axis\")\n",
       "      .attr(\"transform\", \"translate(0,\" + height + \")\")\n",
       "      .call(xAxis);\n",
       "\n",
       "  svg.append(\"g\")\n",
       "      .attr(\"class\", \"y axis\")\n",
       "      .attr(\"y\", -margin.left+20)\n",
       "      .call(yAxis);\n",
       "\n",
       "  svg.selectAll(\".bar\")\n",
       "      .data(data)\n",
       "    .enter().append(\"rect\")\n",
       "      .attr(\"class\", \"bar\")\n",
       "      .attr(\"x\", function(d) { return x(d.TYPE); })\n",
       "      .attr(\"width\", x.rangeBand())\n",
       "      .attr(\"y\", function(d) { return y(d.TOTAL); })\n",
       "      .attr(\"height\", function(d) { return height - y(d.TOTAL); });\n",
       "\n",
       " </script>\n"
      ],
      "text/plain": [
       "<IPython.core.display.HTML object>"
      ]
     },
     "execution_count": 10,
     "metadata": {},
     "output_type": "execute_result"
    }
   ],
   "source": [
    "HTML('<script src=\"./d3.min.js\"></script>')\n",
    "\n",
    "HTML(display_bar2(pandas_df))"
   ]
  },
  {
   "cell_type": "code",
   "execution_count": null,
   "id": "trained-andrew",
   "metadata": {},
   "outputs": [],
   "source": []
  },
  {
   "cell_type": "code",
   "execution_count": null,
   "id": "cross-hampton",
   "metadata": {},
   "outputs": [],
   "source": []
  },
  {
   "cell_type": "code",
   "execution_count": null,
   "id": "protecting-topic",
   "metadata": {},
   "outputs": [],
   "source": []
  },
  {
   "cell_type": "code",
   "execution_count": 1,
   "id": "generic-collaboration",
   "metadata": {},
   "outputs": [],
   "source": [
    "\n"
   ]
  },
  {
   "cell_type": "code",
   "execution_count": null,
   "id": "failing-kazakhstan",
   "metadata": {},
   "outputs": [],
   "source": []
  },
  {
   "cell_type": "code",
   "execution_count": null,
   "id": "otherwise-eight",
   "metadata": {},
   "outputs": [],
   "source": []
  },
  {
   "cell_type": "code",
   "execution_count": null,
   "id": "dominant-wallace",
   "metadata": {},
   "outputs": [],
   "source": []
  }
 ],
 "metadata": {
  "kernelspec": {
   "display_name": "Python 3",
   "language": "python",
   "name": "python3"
  },
  "language_info": {
   "codemirror_mode": {
    "name": "ipython",
    "version": 3
   },
   "file_extension": ".py",
   "mimetype": "text/x-python",
   "name": "python",
   "nbconvert_exporter": "python",
   "pygments_lexer": "ipython3",
   "version": "3.8.6"
  }
 },
 "nbformat": 4,
 "nbformat_minor": 5
}
